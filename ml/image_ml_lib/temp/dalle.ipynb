{
 "cells": [
  {
   "cell_type": "code",
   "execution_count": 28,
   "metadata": {},
   "outputs": [
    {
     "ename": "ImportError",
     "evalue": "cannot import name '_TORCH_GREATER_EQUAL_1_8' from 'pytorch_lightning.utilities.imports' (/home/samir/.local/lib/python3.10/site-packages/pytorch_lightning/utilities/imports.py)",
     "output_type": "error",
     "traceback": [
      "\u001b[0;31m---------------------------------------------------------------------------\u001b[0m",
      "\u001b[0;31mImportError\u001b[0m                               Traceback (most recent call last)",
      "Cell \u001b[0;32mIn[28], line 2\u001b[0m\n\u001b[1;32m      1\u001b[0m \u001b[39mimport\u001b[39;00m \u001b[39mtorch\u001b[39;00m\n\u001b[0;32m----> 2\u001b[0m \u001b[39mfrom\u001b[39;00m \u001b[39mtaming\u001b[39;00m\u001b[39m.\u001b[39;00m\u001b[39mmodels\u001b[39;00m \u001b[39mimport\u001b[39;00m cond_transformer, vqgan\n\u001b[1;32m      3\u001b[0m \u001b[39mimport\u001b[39;00m \u001b[39mtorchvision\u001b[39;00m\u001b[39m.\u001b[39;00m\u001b[39mtransforms\u001b[39;00m \u001b[39mas\u001b[39;00m \u001b[39mtransforms\u001b[39;00m\n\u001b[1;32m      4\u001b[0m \u001b[39mfrom\u001b[39;00m \u001b[39mPIL\u001b[39;00m \u001b[39mimport\u001b[39;00m Image\n",
      "File \u001b[0;32m~/.local/lib/python3.10/site-packages/taming/models/cond_transformer.py:6\u001b[0m\n\u001b[1;32m      3\u001b[0m \u001b[39mimport\u001b[39;00m \u001b[39mtorch\u001b[39;00m\u001b[39m.\u001b[39;00m\u001b[39mnn\u001b[39;00m\u001b[39m.\u001b[39;00m\u001b[39mfunctional\u001b[39;00m \u001b[39mas\u001b[39;00m \u001b[39mF\u001b[39;00m\n\u001b[1;32m      4\u001b[0m \u001b[39mimport\u001b[39;00m \u001b[39mpytorch_lightning\u001b[39;00m \u001b[39mas\u001b[39;00m \u001b[39mpl\u001b[39;00m\n\u001b[0;32m----> 6\u001b[0m \u001b[39mfrom\u001b[39;00m \u001b[39mtaming\u001b[39;00m\u001b[39m.\u001b[39;00m\u001b[39mmain\u001b[39;00m \u001b[39mimport\u001b[39;00m instantiate_from_config\n\u001b[1;32m      7\u001b[0m \u001b[39mfrom\u001b[39;00m \u001b[39mtaming\u001b[39;00m\u001b[39m.\u001b[39;00m\u001b[39mmodules\u001b[39;00m\u001b[39m.\u001b[39;00m\u001b[39mutil\u001b[39;00m \u001b[39mimport\u001b[39;00m SOSProvider\n\u001b[1;32m     10\u001b[0m \u001b[39mdef\u001b[39;00m \u001b[39mdisabled_train\u001b[39m(\u001b[39mself\u001b[39m, mode\u001b[39m=\u001b[39m\u001b[39mTrue\u001b[39;00m):\n",
      "File \u001b[0;32m~/.local/lib/python3.10/site-packages/taming/main.py:12\u001b[0m\n\u001b[1;32m     10\u001b[0m \u001b[39mfrom\u001b[39;00m \u001b[39mpytorch_lightning\u001b[39;00m\u001b[39m.\u001b[39;00m\u001b[39mtrainer\u001b[39;00m \u001b[39mimport\u001b[39;00m Trainer\n\u001b[1;32m     11\u001b[0m \u001b[39mfrom\u001b[39;00m \u001b[39mpytorch_lightning\u001b[39;00m\u001b[39m.\u001b[39;00m\u001b[39mcallbacks\u001b[39;00m \u001b[39mimport\u001b[39;00m ModelCheckpoint, Callback, LearningRateMonitor\n\u001b[0;32m---> 12\u001b[0m \u001b[39mfrom\u001b[39;00m \u001b[39mpytorch_lightning\u001b[39;00m\u001b[39m.\u001b[39;00m\u001b[39mutilities\u001b[39;00m\u001b[39m.\u001b[39;00m\u001b[39mdistributed\u001b[39;00m \u001b[39mimport\u001b[39;00m rank_zero_only\n\u001b[1;32m     14\u001b[0m \u001b[39mdef\u001b[39;00m \u001b[39mget_obj_from_str\u001b[39m(string, reload\u001b[39m=\u001b[39m\u001b[39mFalse\u001b[39;00m):\n\u001b[1;32m     15\u001b[0m     module, \u001b[39mcls\u001b[39m \u001b[39m=\u001b[39m string\u001b[39m.\u001b[39mrsplit(\u001b[39m\"\u001b[39m\u001b[39m.\u001b[39m\u001b[39m\"\u001b[39m, \u001b[39m1\u001b[39m)\n",
      "File \u001b[0;32m~/.local/lib/python3.10/site-packages/pytorch_lightning/utilities/distributed.py:24\u001b[0m\n\u001b[1;32m     21\u001b[0m \u001b[39mimport\u001b[39;00m \u001b[39mtorch\u001b[39;00m\n\u001b[1;32m     22\u001b[0m \u001b[39mfrom\u001b[39;00m \u001b[39mtorch\u001b[39;00m\u001b[39m.\u001b[39;00m\u001b[39mnn\u001b[39;00m\u001b[39m.\u001b[39;00m\u001b[39mparallel\u001b[39;00m\u001b[39m.\u001b[39;00m\u001b[39mdistributed\u001b[39;00m \u001b[39mimport\u001b[39;00m DistributedDataParallel\n\u001b[0;32m---> 24\u001b[0m \u001b[39mfrom\u001b[39;00m \u001b[39mpytorch_lightning\u001b[39;00m\u001b[39m.\u001b[39;00m\u001b[39mutilities\u001b[39;00m\u001b[39m.\u001b[39;00m\u001b[39mimports\u001b[39;00m \u001b[39mimport\u001b[39;00m _TORCH_GREATER_EQUAL_1_8, _TORCH_GREATER_EQUAL_1_9, _TPU_AVAILABLE\n\u001b[1;32m     26\u001b[0m \u001b[39mif\u001b[39;00m _TPU_AVAILABLE:\n\u001b[1;32m     27\u001b[0m     \u001b[39mimport\u001b[39;00m \u001b[39mtorch_xla\u001b[39;00m\u001b[39m.\u001b[39;00m\u001b[39mcore\u001b[39;00m\u001b[39m.\u001b[39;00m\u001b[39mxla_model\u001b[39;00m \u001b[39mas\u001b[39;00m \u001b[39mxm\u001b[39;00m\n",
      "\u001b[0;31mImportError\u001b[0m: cannot import name '_TORCH_GREATER_EQUAL_1_8' from 'pytorch_lightning.utilities.imports' (/home/samir/.local/lib/python3.10/site-packages/pytorch_lightning/utilities/imports.py)"
     ]
    }
   ],
   "source": [
    "import torch\n",
    "from taming.models import cond_transformer, vqgan\n",
    "import torchvision.transforms as transforms\n",
    "from PIL import Image\n",
    "\n",
    "# Load the VQGAN model\n",
    "vqgan_model = vqgan.VQModel.from_pretrained('Esrgan', 'vqgan_esrgan_f16_16384')\n",
    "\n",
    "# Define the text prompt\n",
    "text_prompt = \"a red apple on a table\"\n",
    "\n",
    "# Generate image from text prompt\n",
    "z, *_ = vqgan_model.encode(text_prompt)\n",
    "output = vqgan_model.decode(z)\n",
    "\n",
    "# Convert output tensor to image\n",
    "output_image = transforms.ToPILImage()(output[0].cpu().float().clamp(-1, 1))\n",
    "\n",
    "# Save the generated image\n",
    "output_image.save(\"generated_image.png\")\n"
   ]
  },
  {
   "cell_type": "code",
   "execution_count": null,
   "metadata": {},
   "outputs": [],
   "source": []
  },
  {
   "cell_type": "code",
   "execution_count": null,
   "metadata": {},
   "outputs": [],
   "source": []
  },
  {
   "cell_type": "code",
   "execution_count": 26,
   "metadata": {},
   "outputs": [
    {
     "name": "stderr",
     "output_type": "stream",
     "text": [
      "huggingface/tokenizers: The current process just got forked, after parallelism has already been used. Disabling parallelism to avoid deadlocks...\n",
      "To disable this warning, you can either:\n",
      "\t- Avoid using `tokenizers` before the fork if possible\n",
      "\t- Explicitly set the environment variable TOKENIZERS_PARALLELISM=(true | false)\n"
     ]
    },
    {
     "name": "stdout",
     "output_type": "stream",
     "text": [
      "Defaulting to user installation because normal site-packages is not writeable\n",
      "Requirement already satisfied: torch in /home/samir/.local/lib/python3.10/site-packages (2.2.1)\n",
      "Requirement already satisfied: torchvision in /home/samir/.local/lib/python3.10/site-packages (0.17.1)\n",
      "\u001b[31mERROR: Could not find a version that satisfies the requirement dalle-pytorch==0.16.4 (from versions: 0.0.1, 0.0.2, 0.0.3, 0.0.4, 0.0.5, 0.0.7, 0.0.8, 0.0.9, 0.0.10, 0.0.11, 0.0.12, 0.0.14, 0.0.15, 0.0.16, 0.0.17, 0.0.18, 0.0.19, 0.0.21, 0.0.22, 0.0.23, 0.0.24, 0.0.25.dev0, 0.0.25, 0.0.26, 0.0.27, 0.0.28, 0.0.29, 0.0.30, 0.0.31, 0.0.32, 0.0.33, 0.0.34, 0.0.35, 0.0.36, 0.0.37, 0.0.38, 0.0.39, 0.0.40, 0.0.41, 0.0.43, 0.0.44, 0.0.45, 0.0.46, 0.0.47, 0.0.48, 0.0.49, 0.0.50, 0.0.51, 0.0.52, 0.0.53, 0.0.54, 0.0.55, 0.0.56, 0.0.58, 0.0.59, 0.0.60, 0.0.61, 0.0.62, 0.0.63, 0.1.0, 0.1.1, 0.1.2, 0.1.4, 0.1.5, 0.1.6, 0.1.7, 0.1.8, 0.1.9, 0.1.10, 0.1.11, 0.1.12, 0.1.14, 0.1.15, 0.1.16, 0.1.17, 0.1.18, 0.1.19, 0.1.21, 0.1.22, 0.1.23, 0.1.24, 0.1.25, 0.1.26, 0.1.27, 0.2.0, 0.2.2, 0.2.3, 0.2.4, 0.2.5, 0.2.6, 0.2.8, 0.3.0, 0.3.1, 0.3.2, 0.3.3, 0.3.4, 0.3.5, 0.5.0, 0.5.1, 0.6.0, 0.7.0, 0.7.1, 0.7.2, 0.7.3, 0.8.0, 0.8.1, 0.8.2, 0.8.3, 0.9.0, 0.9.1, 0.9.2, 0.9.3, 0.9.4, 0.9.5, 0.9.6, 0.10.0, 0.10.1, 0.10.2, 0.10.3, 0.10.4, 0.10.5, 0.10.6, 0.10.7, 0.10.8, 0.11.0, 0.11.1, 0.11.2, 0.11.3, 0.12.0, 0.12.1, 0.12.2, 0.12.3, 0.12.4, 0.12.5, 0.13.0, 0.13.1, 0.13.2, 0.13.4, 0.14.0, 0.14.1, 0.14.2, 0.14.3, 1.0.0, 1.0.1, 1.0.2, 1.0.3, 1.0.5, 1.0.6, 1.0.7, 1.0.8, 1.1.0, 1.1.1, 1.1.2, 1.1.4, 1.1.5, 1.1.6, 1.1.7, 1.1.8, 1.2.0, 1.2.1, 1.2.2, 1.4.0, 1.4.1, 1.4.2, 1.5.0, 1.5.1, 1.5.2, 1.6.0, 1.6.1, 1.6.2, 1.6.3, 1.6.4, 1.6.5, 1.6.6)\u001b[0m\u001b[31m\n",
      "\u001b[0m\u001b[31mERROR: No matching distribution found for dalle-pytorch==0.16.4\u001b[0m\u001b[31m\n",
      "\u001b[0m"
     ]
    }
   ],
   "source": [
    "! pip install torch torchvision dalle-pytorch==0.16.4\n"
   ]
  },
  {
   "cell_type": "code",
   "execution_count": null,
   "metadata": {},
   "outputs": [],
   "source": []
  },
  {
   "cell_type": "code",
   "execution_count": null,
   "metadata": {},
   "outputs": [],
   "source": []
  },
  {
   "cell_type": "code",
   "execution_count": 24,
   "metadata": {},
   "outputs": [
    {
     "name": "stderr",
     "output_type": "stream",
     "text": [
      "huggingface/tokenizers: The current process just got forked, after parallelism has already been used. Disabling parallelism to avoid deadlocks...\n",
      "To disable this warning, you can either:\n",
      "\t- Avoid using `tokenizers` before the fork if possible\n",
      "\t- Explicitly set the environment variable TOKENIZERS_PARALLELISM=(true | false)\n"
     ]
    },
    {
     "name": "stdout",
     "output_type": "stream",
     "text": [
      "Defaulting to user installation because normal site-packages is not writeable\n",
      "Collecting pytorch-lightning==1.4.0\n",
      "  Downloading pytorch_lightning-1.4.0-py3-none-any.whl.metadata (25 kB)\n",
      "Requirement already satisfied: numpy>=1.17.2 in /home/samir/.local/lib/python3.10/site-packages (from pytorch-lightning==1.4.0) (1.26.2)\n",
      "Requirement already satisfied: torch>=1.6 in /home/samir/.local/lib/python3.10/site-packages (from pytorch-lightning==1.4.0) (2.2.1)\n",
      "Requirement already satisfied: future>=0.17.1 in /usr/lib/python3/dist-packages (from pytorch-lightning==1.4.0) (0.18.2)\n",
      "Requirement already satisfied: tqdm>=4.41.0 in /home/samir/.local/lib/python3.10/site-packages (from pytorch-lightning==1.4.0) (4.66.1)\n",
      "Requirement already satisfied: PyYAML>=5.1 in /usr/lib/python3/dist-packages (from pytorch-lightning==1.4.0) (5.4.1)\n",
      "Requirement already satisfied: fsspec!=2021.06.0,>=2021.05.0 in /home/samir/.local/lib/python3.10/site-packages (from fsspec[http]!=2021.06.0,>=2021.05.0->pytorch-lightning==1.4.0) (2024.2.0)\n",
      "Requirement already satisfied: tensorboard!=2.5.0,>=2.2.0 in /home/samir/.local/lib/python3.10/site-packages (from pytorch-lightning==1.4.0) (2.16.2)\n",
      "Requirement already satisfied: torchmetrics>=0.4.0 in /home/samir/.local/lib/python3.10/site-packages (from pytorch-lightning==1.4.0) (1.3.1)\n",
      "Requirement already satisfied: pyDeprecate==0.3.1 in /home/samir/.local/lib/python3.10/site-packages (from pytorch-lightning==1.4.0) (0.3.1)\n",
      "Requirement already satisfied: packaging>=17.0 in /usr/lib/python3/dist-packages (from pytorch-lightning==1.4.0) (21.3)\n",
      "Requirement already satisfied: typing-extensions in /home/samir/.local/lib/python3.10/site-packages (from pytorch-lightning==1.4.0) (4.9.0)\n",
      "Requirement already satisfied: aiohttp!=4.0.0a0,!=4.0.0a1 in /usr/lib/python3/dist-packages (from fsspec[http]!=2021.06.0,>=2021.05.0->pytorch-lightning==1.4.0) (3.8.1)\n",
      "Requirement already satisfied: absl-py>=0.4 in /home/samir/.local/lib/python3.10/site-packages (from tensorboard!=2.5.0,>=2.2.0->pytorch-lightning==1.4.0) (2.1.0)\n",
      "Requirement already satisfied: grpcio>=1.48.2 in /home/samir/.local/lib/python3.10/site-packages (from tensorboard!=2.5.0,>=2.2.0->pytorch-lightning==1.4.0) (1.62.0)\n",
      "Requirement already satisfied: markdown>=2.6.8 in /home/samir/.local/lib/python3.10/site-packages (from tensorboard!=2.5.0,>=2.2.0->pytorch-lightning==1.4.0) (3.5.2)\n",
      "Requirement already satisfied: protobuf!=4.24.0,>=3.19.6 in /home/samir/.local/lib/python3.10/site-packages (from tensorboard!=2.5.0,>=2.2.0->pytorch-lightning==1.4.0) (4.21.12)\n",
      "Requirement already satisfied: setuptools>=41.0.0 in /home/samir/.local/lib/python3.10/site-packages (from tensorboard!=2.5.0,>=2.2.0->pytorch-lightning==1.4.0) (69.0.3)\n",
      "Requirement already satisfied: six>1.9 in /usr/lib/python3/dist-packages (from tensorboard!=2.5.0,>=2.2.0->pytorch-lightning==1.4.0) (1.16.0)\n",
      "Requirement already satisfied: tensorboard-data-server<0.8.0,>=0.7.0 in /home/samir/.local/lib/python3.10/site-packages (from tensorboard!=2.5.0,>=2.2.0->pytorch-lightning==1.4.0) (0.7.2)\n",
      "Requirement already satisfied: werkzeug>=1.0.1 in /home/samir/.local/lib/python3.10/site-packages (from tensorboard!=2.5.0,>=2.2.0->pytorch-lightning==1.4.0) (3.0.1)\n",
      "Requirement already satisfied: filelock in /usr/lib/python3/dist-packages (from torch>=1.6->pytorch-lightning==1.4.0) (3.6.0)\n",
      "Requirement already satisfied: sympy in /home/samir/.local/lib/python3.10/site-packages (from torch>=1.6->pytorch-lightning==1.4.0) (1.12)\n",
      "Requirement already satisfied: networkx in /home/samir/.local/lib/python3.10/site-packages (from torch>=1.6->pytorch-lightning==1.4.0) (3.2.1)\n",
      "Requirement already satisfied: jinja2 in /home/samir/.local/lib/python3.10/site-packages (from torch>=1.6->pytorch-lightning==1.4.0) (3.1.2)\n",
      "Requirement already satisfied: nvidia-cuda-nvrtc-cu12==12.1.105 in /home/samir/.local/lib/python3.10/site-packages (from torch>=1.6->pytorch-lightning==1.4.0) (12.1.105)\n",
      "Requirement already satisfied: nvidia-cuda-runtime-cu12==12.1.105 in /home/samir/.local/lib/python3.10/site-packages (from torch>=1.6->pytorch-lightning==1.4.0) (12.1.105)\n",
      "Requirement already satisfied: nvidia-cuda-cupti-cu12==12.1.105 in /home/samir/.local/lib/python3.10/site-packages (from torch>=1.6->pytorch-lightning==1.4.0) (12.1.105)\n",
      "Requirement already satisfied: nvidia-cudnn-cu12==8.9.2.26 in /home/samir/.local/lib/python3.10/site-packages (from torch>=1.6->pytorch-lightning==1.4.0) (8.9.2.26)\n",
      "Requirement already satisfied: nvidia-cublas-cu12==12.1.3.1 in /home/samir/.local/lib/python3.10/site-packages (from torch>=1.6->pytorch-lightning==1.4.0) (12.1.3.1)\n",
      "Requirement already satisfied: nvidia-cufft-cu12==11.0.2.54 in /home/samir/.local/lib/python3.10/site-packages (from torch>=1.6->pytorch-lightning==1.4.0) (11.0.2.54)\n",
      "Requirement already satisfied: nvidia-curand-cu12==10.3.2.106 in /home/samir/.local/lib/python3.10/site-packages (from torch>=1.6->pytorch-lightning==1.4.0) (10.3.2.106)\n",
      "Requirement already satisfied: nvidia-cusolver-cu12==11.4.5.107 in /home/samir/.local/lib/python3.10/site-packages (from torch>=1.6->pytorch-lightning==1.4.0) (11.4.5.107)\n",
      "Requirement already satisfied: nvidia-cusparse-cu12==12.1.0.106 in /home/samir/.local/lib/python3.10/site-packages (from torch>=1.6->pytorch-lightning==1.4.0) (12.1.0.106)\n",
      "Requirement already satisfied: nvidia-nccl-cu12==2.19.3 in /home/samir/.local/lib/python3.10/site-packages (from torch>=1.6->pytorch-lightning==1.4.0) (2.19.3)\n",
      "Requirement already satisfied: nvidia-nvtx-cu12==12.1.105 in /home/samir/.local/lib/python3.10/site-packages (from torch>=1.6->pytorch-lightning==1.4.0) (12.1.105)\n",
      "Requirement already satisfied: triton==2.2.0 in /home/samir/.local/lib/python3.10/site-packages (from torch>=1.6->pytorch-lightning==1.4.0) (2.2.0)\n",
      "Requirement already satisfied: nvidia-nvjitlink-cu12 in /home/samir/.local/lib/python3.10/site-packages (from nvidia-cusolver-cu12==11.4.5.107->torch>=1.6->pytorch-lightning==1.4.0) (12.3.101)\n",
      "Requirement already satisfied: lightning-utilities>=0.8.0 in /home/samir/.local/lib/python3.10/site-packages (from torchmetrics>=0.4.0->pytorch-lightning==1.4.0) (0.10.1)\n",
      "Requirement already satisfied: MarkupSafe>=2.1.1 in /home/samir/.local/lib/python3.10/site-packages (from werkzeug>=1.0.1->tensorboard!=2.5.0,>=2.2.0->pytorch-lightning==1.4.0) (2.1.3)\n",
      "Requirement already satisfied: mpmath>=0.19 in /home/samir/.local/lib/python3.10/site-packages (from sympy->torch>=1.6->pytorch-lightning==1.4.0) (1.3.0)\n",
      "Downloading pytorch_lightning-1.4.0-py3-none-any.whl (913 kB)\n",
      "\u001b[2K   \u001b[90m━━━━━━━━━━━━━━━━━━━━━━━━━━━━━━━━━━━━━━━\u001b[0m \u001b[32m913.2/913.2 kB\u001b[0m \u001b[31m698.8 kB/s\u001b[0m eta \u001b[36m0:00:00\u001b[0m00:01\u001b[0m00:01\u001b[0m\n",
      "\u001b[?25h\u001b[33mDEPRECATION: distro-info 1.1build1 has a non-standard version number. pip 24.1 will enforce this behaviour change. A possible replacement is to upgrade to a newer version of distro-info or contact the author to suggest that they release a version with a conforming version number. Discussion can be found at https://github.com/pypa/pip/issues/12063\u001b[0m\u001b[33m\n",
      "\u001b[0m\u001b[33mDEPRECATION: python-debian 0.1.43ubuntu1 has a non-standard version number. pip 24.1 will enforce this behaviour change. A possible replacement is to upgrade to a newer version of python-debian or contact the author to suggest that they release a version with a conforming version number. Discussion can be found at https://github.com/pypa/pip/issues/12063\u001b[0m\u001b[33m\n",
      "\u001b[0mInstalling collected packages: pytorch-lightning\n",
      "  Attempting uninstall: pytorch-lightning\n",
      "    Found existing installation: pytorch-lightning 1.5.1\n",
      "    Uninstalling pytorch-lightning-1.5.1:\n",
      "      Successfully uninstalled pytorch-lightning-1.5.1\n",
      "Successfully installed pytorch-lightning-1.4.0\n"
     ]
    }
   ],
   "source": [
    "! pip install pytorch-lightning==1.4.0\n",
    "\n",
    "\n"
   ]
  },
  {
   "cell_type": "code",
   "execution_count": null,
   "metadata": {},
   "outputs": [],
   "source": []
  },
  {
   "cell_type": "code",
   "execution_count": null,
   "metadata": {},
   "outputs": [],
   "source": []
  },
  {
   "cell_type": "code",
   "execution_count": 18,
   "metadata": {},
   "outputs": [
    {
     "name": "stderr",
     "output_type": "stream",
     "text": [
      "huggingface/tokenizers: The current process just got forked, after parallelism has already been used. Disabling parallelism to avoid deadlocks...\n",
      "To disable this warning, you can either:\n",
      "\t- Avoid using `tokenizers` before the fork if possible\n",
      "\t- Explicitly set the environment variable TOKENIZERS_PARALLELISM=(true | false)\n"
     ]
    },
    {
     "name": "stdout",
     "output_type": "stream",
     "text": [
      "Defaulting to user installation because normal site-packages is not writeable\n",
      "Requirement already satisfied: pytorch-lightning in /home/samir/.local/lib/python3.10/site-packages (2.2.0.post0)\n",
      "Requirement already satisfied: numpy>=1.17.2 in /home/samir/.local/lib/python3.10/site-packages (from pytorch-lightning) (1.26.2)\n",
      "Requirement already satisfied: torch>=1.13.0 in /home/samir/.local/lib/python3.10/site-packages (from pytorch-lightning) (2.2.1)\n",
      "Requirement already satisfied: tqdm>=4.57.0 in /home/samir/.local/lib/python3.10/site-packages (from pytorch-lightning) (4.66.1)\n",
      "Requirement already satisfied: PyYAML>=5.4 in /usr/lib/python3/dist-packages (from pytorch-lightning) (5.4.1)\n",
      "Requirement already satisfied: fsspec>=2022.5.0 in /home/samir/.local/lib/python3.10/site-packages (from fsspec[http]>=2022.5.0->pytorch-lightning) (2024.2.0)\n",
      "Requirement already satisfied: torchmetrics>=0.7.0 in /home/samir/.local/lib/python3.10/site-packages (from pytorch-lightning) (1.3.1)\n",
      "Requirement already satisfied: packaging>=20.0 in /usr/lib/python3/dist-packages (from pytorch-lightning) (21.3)\n",
      "Requirement already satisfied: typing-extensions>=4.4.0 in /home/samir/.local/lib/python3.10/site-packages (from pytorch-lightning) (4.9.0)\n",
      "Requirement already satisfied: lightning-utilities>=0.8.0 in /home/samir/.local/lib/python3.10/site-packages (from pytorch-lightning) (0.10.1)\n",
      "Requirement already satisfied: aiohttp!=4.0.0a0,!=4.0.0a1 in /usr/lib/python3/dist-packages (from fsspec[http]>=2022.5.0->pytorch-lightning) (3.8.1)\n",
      "Requirement already satisfied: setuptools in /home/samir/.local/lib/python3.10/site-packages (from lightning-utilities>=0.8.0->pytorch-lightning) (69.0.3)\n",
      "Requirement already satisfied: filelock in /usr/lib/python3/dist-packages (from torch>=1.13.0->pytorch-lightning) (3.6.0)\n",
      "Requirement already satisfied: sympy in /home/samir/.local/lib/python3.10/site-packages (from torch>=1.13.0->pytorch-lightning) (1.12)\n",
      "Requirement already satisfied: networkx in /home/samir/.local/lib/python3.10/site-packages (from torch>=1.13.0->pytorch-lightning) (3.2.1)\n",
      "Requirement already satisfied: jinja2 in /home/samir/.local/lib/python3.10/site-packages (from torch>=1.13.0->pytorch-lightning) (3.1.2)\n",
      "Requirement already satisfied: nvidia-cuda-nvrtc-cu12==12.1.105 in /home/samir/.local/lib/python3.10/site-packages (from torch>=1.13.0->pytorch-lightning) (12.1.105)\n",
      "Requirement already satisfied: nvidia-cuda-runtime-cu12==12.1.105 in /home/samir/.local/lib/python3.10/site-packages (from torch>=1.13.0->pytorch-lightning) (12.1.105)\n",
      "Requirement already satisfied: nvidia-cuda-cupti-cu12==12.1.105 in /home/samir/.local/lib/python3.10/site-packages (from torch>=1.13.0->pytorch-lightning) (12.1.105)\n",
      "Requirement already satisfied: nvidia-cudnn-cu12==8.9.2.26 in /home/samir/.local/lib/python3.10/site-packages (from torch>=1.13.0->pytorch-lightning) (8.9.2.26)\n",
      "Requirement already satisfied: nvidia-cublas-cu12==12.1.3.1 in /home/samir/.local/lib/python3.10/site-packages (from torch>=1.13.0->pytorch-lightning) (12.1.3.1)\n",
      "Requirement already satisfied: nvidia-cufft-cu12==11.0.2.54 in /home/samir/.local/lib/python3.10/site-packages (from torch>=1.13.0->pytorch-lightning) (11.0.2.54)\n",
      "Requirement already satisfied: nvidia-curand-cu12==10.3.2.106 in /home/samir/.local/lib/python3.10/site-packages (from torch>=1.13.0->pytorch-lightning) (10.3.2.106)\n",
      "Requirement already satisfied: nvidia-cusolver-cu12==11.4.5.107 in /home/samir/.local/lib/python3.10/site-packages (from torch>=1.13.0->pytorch-lightning) (11.4.5.107)\n",
      "Requirement already satisfied: nvidia-cusparse-cu12==12.1.0.106 in /home/samir/.local/lib/python3.10/site-packages (from torch>=1.13.0->pytorch-lightning) (12.1.0.106)\n",
      "Requirement already satisfied: nvidia-nccl-cu12==2.19.3 in /home/samir/.local/lib/python3.10/site-packages (from torch>=1.13.0->pytorch-lightning) (2.19.3)\n",
      "Requirement already satisfied: nvidia-nvtx-cu12==12.1.105 in /home/samir/.local/lib/python3.10/site-packages (from torch>=1.13.0->pytorch-lightning) (12.1.105)\n",
      "Requirement already satisfied: triton==2.2.0 in /home/samir/.local/lib/python3.10/site-packages (from torch>=1.13.0->pytorch-lightning) (2.2.0)\n",
      "Requirement already satisfied: nvidia-nvjitlink-cu12 in /home/samir/.local/lib/python3.10/site-packages (from nvidia-cusolver-cu12==11.4.5.107->torch>=1.13.0->pytorch-lightning) (12.3.101)\n",
      "Requirement already satisfied: MarkupSafe>=2.0 in /home/samir/.local/lib/python3.10/site-packages (from jinja2->torch>=1.13.0->pytorch-lightning) (2.1.3)\n",
      "Requirement already satisfied: mpmath>=0.19 in /home/samir/.local/lib/python3.10/site-packages (from sympy->torch>=1.13.0->pytorch-lightning) (1.3.0)\n",
      "\u001b[33mDEPRECATION: distro-info 1.1build1 has a non-standard version number. pip 24.1 will enforce this behaviour change. A possible replacement is to upgrade to a newer version of distro-info or contact the author to suggest that they release a version with a conforming version number. Discussion can be found at https://github.com/pypa/pip/issues/12063\u001b[0m\u001b[33m\n",
      "\u001b[0m\u001b[33mDEPRECATION: python-debian 0.1.43ubuntu1 has a non-standard version number. pip 24.1 will enforce this behaviour change. A possible replacement is to upgrade to a newer version of python-debian or contact the author to suggest that they release a version with a conforming version number. Discussion can be found at https://github.com/pypa/pip/issues/12063\u001b[0m\u001b[33m\n",
      "\u001b[0m"
     ]
    }
   ],
   "source": [
    "! pip install pytorch-lightning\n"
   ]
  },
  {
   "cell_type": "code",
   "execution_count": null,
   "metadata": {},
   "outputs": [],
   "source": []
  },
  {
   "cell_type": "code",
   "execution_count": 17,
   "metadata": {},
   "outputs": [
    {
     "name": "stderr",
     "output_type": "stream",
     "text": [
      "huggingface/tokenizers: The current process just got forked, after parallelism has already been used. Disabling parallelism to avoid deadlocks...\n",
      "To disable this warning, you can either:\n",
      "\t- Avoid using `tokenizers` before the fork if possible\n",
      "\t- Explicitly set the environment variable TOKENIZERS_PARALLELISM=(true | false)\n"
     ]
    },
    {
     "name": "stdout",
     "output_type": "stream",
     "text": [
      "Defaulting to user installation because normal site-packages is not writeable\n",
      "Requirement already satisfied: pip in /home/samir/.local/lib/python3.10/site-packages (23.3.2)\n",
      "Collecting pip\n",
      "  Using cached pip-24.0-py3-none-any.whl.metadata (3.6 kB)\n",
      "Using cached pip-24.0-py3-none-any.whl (2.1 MB)\n",
      "\u001b[33mDEPRECATION: distro-info 1.1build1 has a non-standard version number. pip 24.0 will enforce this behaviour change. A possible replacement is to upgrade to a newer version of distro-info or contact the author to suggest that they release a version with a conforming version number. Discussion can be found at https://github.com/pypa/pip/issues/12063\u001b[0m\u001b[33m\n",
      "\u001b[0m\u001b[33mDEPRECATION: python-debian 0.1.43ubuntu1 has a non-standard version number. pip 24.0 will enforce this behaviour change. A possible replacement is to upgrade to a newer version of python-debian or contact the author to suggest that they release a version with a conforming version number. Discussion can be found at https://github.com/pypa/pip/issues/12063\u001b[0m\u001b[33m\n",
      "\u001b[0mInstalling collected packages: pip\n",
      "  Attempting uninstall: pip\n",
      "    Found existing installation: pip 23.3.2\n",
      "    Uninstalling pip-23.3.2:\n",
      "      Successfully uninstalled pip-23.3.2\n",
      "Successfully installed pip-24.0\n"
     ]
    }
   ],
   "source": [
    "! pip install --upgrade pip"
   ]
  },
  {
   "cell_type": "code",
   "execution_count": null,
   "metadata": {},
   "outputs": [],
   "source": []
  },
  {
   "cell_type": "code",
   "execution_count": 13,
   "metadata": {},
   "outputs": [
    {
     "name": "stderr",
     "output_type": "stream",
     "text": [
      "huggingface/tokenizers: The current process just got forked, after parallelism has already been used. Disabling parallelism to avoid deadlocks...\n",
      "To disable this warning, you can either:\n",
      "\t- Avoid using `tokenizers` before the fork if possible\n",
      "\t- Explicitly set the environment variable TOKENIZERS_PARALLELISM=(true | false)\n"
     ]
    },
    {
     "name": "stdout",
     "output_type": "stream",
     "text": [
      "Defaulting to user installation because normal site-packages is not writeable\n",
      "Requirement already satisfied: torch in /home/samir/.local/lib/python3.10/site-packages (2.2.1)\n",
      "Collecting dalle-pytorch\n",
      "  Using cached dalle_pytorch-1.6.6-py3-none-any.whl.metadata (1.1 kB)\n",
      "Requirement already satisfied: filelock in /usr/lib/python3/dist-packages (from torch) (3.6.0)\n",
      "Requirement already satisfied: typing-extensions>=4.8.0 in /home/samir/.local/lib/python3.10/site-packages (from torch) (4.9.0)\n",
      "Requirement already satisfied: sympy in /home/samir/.local/lib/python3.10/site-packages (from torch) (1.12)\n",
      "Requirement already satisfied: networkx in /home/samir/.local/lib/python3.10/site-packages (from torch) (3.2.1)\n",
      "Requirement already satisfied: jinja2 in /home/samir/.local/lib/python3.10/site-packages (from torch) (3.1.2)\n",
      "Requirement already satisfied: fsspec in /home/samir/.local/lib/python3.10/site-packages (from torch) (2024.2.0)\n",
      "Requirement already satisfied: nvidia-cuda-nvrtc-cu12==12.1.105 in /home/samir/.local/lib/python3.10/site-packages (from torch) (12.1.105)\n",
      "Requirement already satisfied: nvidia-cuda-runtime-cu12==12.1.105 in /home/samir/.local/lib/python3.10/site-packages (from torch) (12.1.105)\n",
      "Requirement already satisfied: nvidia-cuda-cupti-cu12==12.1.105 in /home/samir/.local/lib/python3.10/site-packages (from torch) (12.1.105)\n",
      "Requirement already satisfied: nvidia-cudnn-cu12==8.9.2.26 in /home/samir/.local/lib/python3.10/site-packages (from torch) (8.9.2.26)\n",
      "Requirement already satisfied: nvidia-cublas-cu12==12.1.3.1 in /home/samir/.local/lib/python3.10/site-packages (from torch) (12.1.3.1)\n",
      "Requirement already satisfied: nvidia-cufft-cu12==11.0.2.54 in /home/samir/.local/lib/python3.10/site-packages (from torch) (11.0.2.54)\n",
      "Requirement already satisfied: nvidia-curand-cu12==10.3.2.106 in /home/samir/.local/lib/python3.10/site-packages (from torch) (10.3.2.106)\n",
      "Requirement already satisfied: nvidia-cusolver-cu12==11.4.5.107 in /home/samir/.local/lib/python3.10/site-packages (from torch) (11.4.5.107)\n",
      "Requirement already satisfied: nvidia-cusparse-cu12==12.1.0.106 in /home/samir/.local/lib/python3.10/site-packages (from torch) (12.1.0.106)\n",
      "Requirement already satisfied: nvidia-nccl-cu12==2.19.3 in /home/samir/.local/lib/python3.10/site-packages (from torch) (2.19.3)\n",
      "Requirement already satisfied: nvidia-nvtx-cu12==12.1.105 in /home/samir/.local/lib/python3.10/site-packages (from torch) (12.1.105)\n",
      "Requirement already satisfied: triton==2.2.0 in /home/samir/.local/lib/python3.10/site-packages (from torch) (2.2.0)\n",
      "Requirement already satisfied: nvidia-nvjitlink-cu12 in /home/samir/.local/lib/python3.10/site-packages (from nvidia-cusolver-cu12==11.4.5.107->torch) (12.3.101)\n",
      "Collecting axial-positional-embedding (from dalle-pytorch)\n",
      "  Using cached axial_positional_embedding-0.2.1.tar.gz (2.6 kB)\n",
      "  Preparing metadata (setup.py) ... \u001b[?25ldone\n",
      "\u001b[?25hCollecting DALL-E (from dalle-pytorch)\n",
      "  Using cached DALL_E-0.1-py3-none-any.whl.metadata (433 bytes)\n",
      "Collecting einops>=0.3.2 (from dalle-pytorch)\n",
      "  Using cached einops-0.7.0-py3-none-any.whl.metadata (13 kB)\n",
      "Collecting ftfy (from dalle-pytorch)\n",
      "  Using cached ftfy-6.1.3-py3-none-any.whl.metadata (6.2 kB)\n",
      "Requirement already satisfied: packaging in /usr/lib/python3/dist-packages (from dalle-pytorch) (21.3)\n",
      "Requirement already satisfied: pillow in /usr/lib/python3/dist-packages (from dalle-pytorch) (9.0.1)\n",
      "Requirement already satisfied: regex in /home/samir/.local/lib/python3.10/site-packages (from dalle-pytorch) (2023.10.3)\n",
      "Collecting rotary-embedding-torch (from dalle-pytorch)\n",
      "  Using cached rotary_embedding_torch-0.5.3-py3-none-any.whl.metadata (702 bytes)\n",
      "Collecting taming-transformers-rom1504 (from dalle-pytorch)\n",
      "  Using cached taming_transformers_rom1504-0.0.6-py3-none-any.whl.metadata (406 bytes)\n",
      "Requirement already satisfied: tokenizers in /home/samir/.local/lib/python3.10/site-packages (from dalle-pytorch) (0.15.2)\n",
      "Requirement already satisfied: torchvision in /home/samir/.local/lib/python3.10/site-packages (from dalle-pytorch) (0.17.1)\n",
      "Requirement already satisfied: transformers in /home/samir/.local/lib/python3.10/site-packages (from dalle-pytorch) (4.38.1)\n",
      "Requirement already satisfied: tqdm in /home/samir/.local/lib/python3.10/site-packages (from dalle-pytorch) (4.66.1)\n",
      "Collecting youtokentome (from dalle-pytorch)\n",
      "  Using cached youtokentome-1.0.6.tar.gz (86 kB)\n",
      "  Preparing metadata (setup.py) ... \u001b[?25ldone\n",
      "\u001b[?25hCollecting WebDataset (from dalle-pytorch)\n",
      "  Downloading webdataset-0.2.86-py3-none-any.whl.metadata (29 kB)\n",
      "Collecting blobfile (from DALL-E->dalle-pytorch)\n",
      "  Downloading blobfile-2.1.1-py3-none-any.whl.metadata (15 kB)\n",
      "Collecting mypy (from DALL-E->dalle-pytorch)\n",
      "  Downloading mypy-1.8.0-cp310-cp310-manylinux_2_17_x86_64.manylinux2014_x86_64.whl.metadata (1.8 kB)\n",
      "Requirement already satisfied: numpy in /home/samir/.local/lib/python3.10/site-packages (from DALL-E->dalle-pytorch) (1.26.2)\n",
      "Requirement already satisfied: pytest in /home/samir/.local/lib/python3.10/site-packages (from DALL-E->dalle-pytorch) (7.2.2)\n",
      "Requirement already satisfied: requests in /home/samir/.local/lib/python3.10/site-packages (from DALL-E->dalle-pytorch) (2.31.0)\n",
      "Collecting wcwidth<0.3.0,>=0.2.12 (from ftfy->dalle-pytorch)\n",
      "  Using cached wcwidth-0.2.13-py2.py3-none-any.whl.metadata (14 kB)\n",
      "Requirement already satisfied: MarkupSafe>=2.0 in /home/samir/.local/lib/python3.10/site-packages (from jinja2->torch) (2.1.3)\n",
      "Collecting beartype (from rotary-embedding-torch->dalle-pytorch)\n",
      "  Downloading beartype-0.17.2-py3-none-any.whl.metadata (30 kB)\n",
      "Requirement already satisfied: mpmath>=0.19 in /home/samir/.local/lib/python3.10/site-packages (from sympy->torch) (1.3.0)\n",
      "Requirement already satisfied: omegaconf>=2.0.0 in /home/samir/.local/lib/python3.10/site-packages (from taming-transformers-rom1504->dalle-pytorch) (2.3.0)\n",
      "Requirement already satisfied: pytorch-lightning>=1.0.8 in /home/samir/.local/lib/python3.10/site-packages (from taming-transformers-rom1504->dalle-pytorch) (2.2.0.post0)\n",
      "Requirement already satisfied: huggingface_hub<1.0,>=0.16.4 in /home/samir/.local/lib/python3.10/site-packages (from tokenizers->dalle-pytorch) (0.20.3)\n",
      "Requirement already satisfied: pyyaml>=5.1 in /usr/lib/python3/dist-packages (from transformers->dalle-pytorch) (5.4.1)\n",
      "Requirement already satisfied: safetensors>=0.4.1 in /home/samir/.local/lib/python3.10/site-packages (from transformers->dalle-pytorch) (0.4.2)\n",
      "Collecting braceexpand (from WebDataset->dalle-pytorch)\n",
      "  Downloading braceexpand-0.1.7-py2.py3-none-any.whl.metadata (3.0 kB)\n",
      "Requirement already satisfied: Click>=7.0 in /home/samir/.local/lib/python3.10/site-packages (from youtokentome->dalle-pytorch) (8.1.7)\n",
      "Requirement already satisfied: antlr4-python3-runtime==4.9.* in /home/samir/.local/lib/python3.10/site-packages (from omegaconf>=2.0.0->taming-transformers-rom1504->dalle-pytorch) (4.9.3)\n",
      "Requirement already satisfied: torchmetrics>=0.7.0 in /home/samir/.local/lib/python3.10/site-packages (from pytorch-lightning>=1.0.8->taming-transformers-rom1504->dalle-pytorch) (1.3.1)\n",
      "Requirement already satisfied: lightning-utilities>=0.8.0 in /home/samir/.local/lib/python3.10/site-packages (from pytorch-lightning>=1.0.8->taming-transformers-rom1504->dalle-pytorch) (0.10.1)\n",
      "Collecting pycryptodomex~=3.8 (from blobfile->DALL-E->dalle-pytorch)\n",
      "  Downloading pycryptodomex-3.20.0-cp35-abi3-manylinux_2_17_x86_64.manylinux2014_x86_64.whl.metadata (3.4 kB)\n",
      "Requirement already satisfied: urllib3<3,>=1.25.3 in /usr/lib/python3/dist-packages (from blobfile->DALL-E->dalle-pytorch) (1.26.5)\n",
      "Collecting lxml~=4.9 (from blobfile->DALL-E->dalle-pytorch)\n",
      "  Downloading lxml-4.9.4-cp310-cp310-manylinux_2_28_x86_64.whl.metadata (3.7 kB)\n",
      "Collecting mypy-extensions>=1.0.0 (from mypy->DALL-E->dalle-pytorch)\n",
      "  Downloading mypy_extensions-1.0.0-py3-none-any.whl.metadata (1.1 kB)\n",
      "Requirement already satisfied: tomli>=1.1.0 in /home/samir/.local/lib/python3.10/site-packages (from mypy->DALL-E->dalle-pytorch) (2.0.1)\n",
      "Requirement already satisfied: attrs>=19.2.0 in /home/samir/.local/lib/python3.10/site-packages (from pytest->DALL-E->dalle-pytorch) (23.2.0)\n",
      "Requirement already satisfied: iniconfig in /home/samir/.local/lib/python3.10/site-packages (from pytest->DALL-E->dalle-pytorch) (2.0.0)\n",
      "Requirement already satisfied: pluggy<2.0,>=0.12 in /home/samir/.local/lib/python3.10/site-packages (from pytest->DALL-E->dalle-pytorch) (1.0.0)\n",
      "Requirement already satisfied: exceptiongroup>=1.0.0rc8 in /home/samir/.local/lib/python3.10/site-packages (from pytest->DALL-E->dalle-pytorch) (1.2.0)\n",
      "Requirement already satisfied: charset-normalizer<4,>=2 in /home/samir/.local/lib/python3.10/site-packages (from requests->DALL-E->dalle-pytorch) (3.3.2)\n",
      "Requirement already satisfied: idna<4,>=2.5 in /usr/lib/python3/dist-packages (from requests->DALL-E->dalle-pytorch) (3.3)\n",
      "Requirement already satisfied: certifi>=2017.4.17 in /usr/lib/python3/dist-packages (from requests->DALL-E->dalle-pytorch) (2020.6.20)\n",
      "Requirement already satisfied: aiohttp!=4.0.0a0,!=4.0.0a1 in /usr/lib/python3/dist-packages (from fsspec[http]>=2022.5.0->pytorch-lightning>=1.0.8->taming-transformers-rom1504->dalle-pytorch) (3.8.1)\n",
      "Requirement already satisfied: setuptools in /home/samir/.local/lib/python3.10/site-packages (from lightning-utilities>=0.8.0->pytorch-lightning>=1.0.8->taming-transformers-rom1504->dalle-pytorch) (69.0.3)\n",
      "Downloading dalle_pytorch-1.6.6-py3-none-any.whl (1.4 MB)\n",
      "\u001b[2K   \u001b[90m━━━━━━━━━━━━━━━━━━━━━━━━━━━━━━━━━━━━━━━━\u001b[0m \u001b[32m1.4/1.4 MB\u001b[0m \u001b[31m388.5 kB/s\u001b[0m eta \u001b[36m0:00:00\u001b[0m00:01\u001b[0m00:01\u001b[0m\n",
      "\u001b[?25hDownloading einops-0.7.0-py3-none-any.whl (44 kB)\n",
      "\u001b[2K   \u001b[90m━━━━━━━━━━━━━━━━━━━━━━━━━━━━━━━━━━━━━━━━\u001b[0m \u001b[32m44.6/44.6 kB\u001b[0m \u001b[31m302.0 kB/s\u001b[0m eta \u001b[36m0:00:00\u001b[0ma \u001b[36m0:00:01\u001b[0m\n",
      "\u001b[?25hDownloading DALL_E-0.1-py3-none-any.whl (6.0 kB)\n",
      "Downloading ftfy-6.1.3-py3-none-any.whl (53 kB)\n",
      "\u001b[2K   \u001b[90m━━━━━━━━━━━━━━━━━━━━━━━━━━━━━━━━━━━━━━━━\u001b[0m \u001b[32m53.4/53.4 kB\u001b[0m \u001b[31m152.8 kB/s\u001b[0m eta \u001b[36m0:00:00\u001b[0ma \u001b[36m0:00:01\u001b[0m\n",
      "\u001b[?25hDownloading rotary_embedding_torch-0.5.3-py3-none-any.whl (5.3 kB)\n",
      "Downloading taming_transformers_rom1504-0.0.6-py3-none-any.whl (51 kB)\n",
      "\u001b[2K   \u001b[90m━━━━━━━━━━━━━━━━━━━━━━━━━━━━━━━━━━━━━━━━\u001b[0m \u001b[32m51.5/51.5 kB\u001b[0m \u001b[31m165.7 kB/s\u001b[0m eta \u001b[36m0:00:00\u001b[0m00:01\u001b[0m00:01\u001b[0m\n",
      "\u001b[?25hDownloading webdataset-0.2.86-py3-none-any.whl (70 kB)\n",
      "\u001b[2K   \u001b[90m━━━━━━━━━━━━━━━━━━━━━━━━━━━━━━━━━━━━━━━━\u001b[0m \u001b[32m70.4/70.4 kB\u001b[0m \u001b[31m310.1 kB/s\u001b[0m eta \u001b[36m0:00:00\u001b[0ma \u001b[36m0:00:01\u001b[0m\n",
      "\u001b[?25hUsing cached wcwidth-0.2.13-py2.py3-none-any.whl (34 kB)\n",
      "Downloading beartype-0.17.2-py3-none-any.whl (872 kB)\n",
      "\u001b[2K   \u001b[90m━━━━━━━━━━━━━━━━━━━━━━━━━━━━━━━━━━━━━━━\u001b[0m \u001b[32m872.4/872.4 kB\u001b[0m \u001b[31m546.2 kB/s\u001b[0m eta \u001b[36m0:00:00\u001b[0m00:01\u001b[0m00:01\u001b[0m\n",
      "\u001b[?25hDownloading blobfile-2.1.1-py3-none-any.whl (73 kB)\n",
      "\u001b[2K   \u001b[90m━━━━━━━━━━━━━━━━━━━━━━━━━━━━━━━━━━━━━━━━\u001b[0m \u001b[32m73.7/73.7 kB\u001b[0m \u001b[31m258.9 kB/s\u001b[0m eta \u001b[36m0:00:00\u001b[0ma \u001b[36m0:00:01\u001b[0m\n",
      "\u001b[?25hDownloading braceexpand-0.1.7-py2.py3-none-any.whl (5.9 kB)\n",
      "Downloading mypy-1.8.0-cp310-cp310-manylinux_2_17_x86_64.manylinux2014_x86_64.whl (12.5 MB)\n",
      "\u001b[2K   \u001b[90m━━━━━━━━━━━━━━━━━━━━━━━━━━━━━━━━━━━━━━━━\u001b[0m \u001b[32m12.5/12.5 MB\u001b[0m \u001b[31m894.2 kB/s\u001b[0m eta \u001b[36m0:00:00\u001b[0m00:01\u001b[0m00:01\u001b[0m\n",
      "\u001b[?25hDownloading lxml-4.9.4-cp310-cp310-manylinux_2_28_x86_64.whl (7.9 MB)\n",
      "\u001b[2K   \u001b[90m━━━━━━━━━━━━━━━━━━━━━━━━━━━━━━━━━━━━━━━━\u001b[0m \u001b[32m7.9/7.9 MB\u001b[0m \u001b[31m2.9 MB/s\u001b[0m eta \u001b[36m0:00:00\u001b[0m00:01\u001b[0m00:01\u001b[0m\n",
      "\u001b[?25hUsing cached mypy_extensions-1.0.0-py3-none-any.whl (4.7 kB)\n",
      "Downloading pycryptodomex-3.20.0-cp35-abi3-manylinux_2_17_x86_64.manylinux2014_x86_64.whl (2.1 MB)\n",
      "\u001b[2K   \u001b[90m━━━━━━━━━━━━━━━━━━━━━━━━━━━━━━━━━━━━━━━━\u001b[0m \u001b[32m2.1/2.1 MB\u001b[0m \u001b[31m4.0 MB/s\u001b[0m eta \u001b[36m0:00:00\u001b[0m00:01\u001b[0m00:01\u001b[0mm\n",
      "\u001b[?25hBuilding wheels for collected packages: axial-positional-embedding, youtokentome\n",
      "  Building wheel for axial-positional-embedding (setup.py) ... \u001b[?25ldone\n",
      "\u001b[?25h  Created wheel for axial-positional-embedding: filename=axial_positional_embedding-0.2.1-py3-none-any.whl size=2887 sha256=4df4a2a84bf5e4e907aaaea75ce37ecd95f34f5e615a7ac603a9f9ecb87447eb\n",
      "  Stored in directory: /home/samir/.cache/pip/wheels/b1/cb/39/7ce7ff2d2fd37cfe1fe7b3a3c43cf410632b2ad3b3f3986d73\n",
      "  Building wheel for youtokentome (setup.py) ... \u001b[?25ldone\n",
      "\u001b[?25h  Created wheel for youtokentome: filename=youtokentome-1.0.6-cp310-cp310-linux_x86_64.whl size=1951498 sha256=4b0257cfcd305774c30f331d752a66ce73d28f27a8ee35e9c03b1ebbb003a937\n",
      "  Stored in directory: /home/samir/.cache/pip/wheels/df/85/f8/301d2ba45f43f30bed2fe413efa760bc726b8b660ed9c2900c\n",
      "Successfully built axial-positional-embedding youtokentome\n",
      "\u001b[33mDEPRECATION: distro-info 1.1build1 has a non-standard version number. pip 24.0 will enforce this behaviour change. A possible replacement is to upgrade to a newer version of distro-info or contact the author to suggest that they release a version with a conforming version number. Discussion can be found at https://github.com/pypa/pip/issues/12063\u001b[0m\u001b[33m\n",
      "\u001b[0m\u001b[33mDEPRECATION: python-debian 0.1.43ubuntu1 has a non-standard version number. pip 24.0 will enforce this behaviour change. A possible replacement is to upgrade to a newer version of python-debian or contact the author to suggest that they release a version with a conforming version number. Discussion can be found at https://github.com/pypa/pip/issues/12063\u001b[0m\u001b[33m\n",
      "\u001b[0mInstalling collected packages: wcwidth, braceexpand, youtokentome, WebDataset, pycryptodomex, mypy-extensions, lxml, ftfy, einops, beartype, mypy, blobfile, rotary-embedding-torch, axial-positional-embedding, DALL-E, taming-transformers-rom1504, dalle-pytorch\n",
      "  Attempting uninstall: wcwidth\n",
      "    Found existing installation: wcwidth 0.2.5\n",
      "    Uninstalling wcwidth-0.2.5:\n",
      "      Successfully uninstalled wcwidth-0.2.5\n",
      "\u001b[31mERROR: pip's dependency resolver does not currently take into account all the packages that are installed. This behaviour is the source of the following dependency conflicts.\n",
      "redshift-connector 2.0.910 requires boto3<2.0.0,>=1.9.201, which is not installed.\n",
      "redshift-connector 2.0.910 requires botocore<2.0.0,>=1.12.201, which is not installed.\n",
      "streamlink 6.3.1 requires isodate, which is not installed.\u001b[0m\u001b[31m\n",
      "\u001b[0mSuccessfully installed DALL-E-0.1 WebDataset-0.2.86 axial-positional-embedding-0.2.1 beartype-0.17.2 blobfile-2.1.1 braceexpand-0.1.7 dalle-pytorch-1.6.6 einops-0.7.0 ftfy-6.1.3 lxml-4.9.4 mypy-1.8.0 mypy-extensions-1.0.0 pycryptodomex-3.20.0 rotary-embedding-torch-0.5.3 taming-transformers-rom1504-0.0.6 wcwidth-0.2.13 youtokentome-1.0.6\n",
      "\n",
      "\u001b[1m[\u001b[0m\u001b[34;49mnotice\u001b[0m\u001b[1;39;49m]\u001b[0m\u001b[39;49m A new release of pip is available: \u001b[0m\u001b[31;49m23.3.2\u001b[0m\u001b[39;49m -> \u001b[0m\u001b[32;49m24.0\u001b[0m\n",
      "\u001b[1m[\u001b[0m\u001b[34;49mnotice\u001b[0m\u001b[1;39;49m]\u001b[0m\u001b[39;49m To update, run: \u001b[0m\u001b[32;49mpip install --upgrade pip\u001b[0m\n"
     ]
    }
   ],
   "source": [
    "! pip install torch dalle-pytorch\n"
   ]
  },
  {
   "cell_type": "code",
   "execution_count": null,
   "metadata": {},
   "outputs": [],
   "source": []
  },
  {
   "cell_type": "code",
   "execution_count": 12,
   "metadata": {},
   "outputs": [
    {
     "name": "stderr",
     "output_type": "stream",
     "text": [
      "huggingface/tokenizers: The current process just got forked, after parallelism has already been used. Disabling parallelism to avoid deadlocks...\n",
      "To disable this warning, you can either:\n",
      "\t- Avoid using `tokenizers` before the fork if possible\n",
      "\t- Explicitly set the environment variable TOKENIZERS_PARALLELISM=(true | false)\n"
     ]
    },
    {
     "name": "stdout",
     "output_type": "stream",
     "text": [
      "Defaulting to user installation because normal site-packages is not writeable\n",
      "Collecting Cython\n",
      "  Downloading Cython-3.0.8-cp310-cp310-manylinux_2_17_x86_64.manylinux2014_x86_64.whl.metadata (3.2 kB)\n",
      "Downloading Cython-3.0.8-cp310-cp310-manylinux_2_17_x86_64.manylinux2014_x86_64.whl (3.6 MB)\n",
      "\u001b[2K   \u001b[90m━━━━━━━━━━━━━━━━━━━━━━━━━━━━━━━━━━━━━━━━\u001b[0m \u001b[32m3.6/3.6 MB\u001b[0m \u001b[31m2.0 MB/s\u001b[0m eta \u001b[36m0:00:00\u001b[0m00:01\u001b[0m00:01\u001b[0m0m\n",
      "\u001b[?25h\u001b[33mDEPRECATION: distro-info 1.1build1 has a non-standard version number. pip 24.0 will enforce this behaviour change. A possible replacement is to upgrade to a newer version of distro-info or contact the author to suggest that they release a version with a conforming version number. Discussion can be found at https://github.com/pypa/pip/issues/12063\u001b[0m\u001b[33m\n",
      "\u001b[0m\u001b[33mDEPRECATION: python-debian 0.1.43ubuntu1 has a non-standard version number. pip 24.0 will enforce this behaviour change. A possible replacement is to upgrade to a newer version of python-debian or contact the author to suggest that they release a version with a conforming version number. Discussion can be found at https://github.com/pypa/pip/issues/12063\u001b[0m\u001b[33m\n",
      "\u001b[0mInstalling collected packages: Cython\n",
      "Successfully installed Cython-3.0.8\n",
      "\n",
      "\u001b[1m[\u001b[0m\u001b[34;49mnotice\u001b[0m\u001b[1;39;49m]\u001b[0m\u001b[39;49m A new release of pip is available: \u001b[0m\u001b[31;49m23.3.2\u001b[0m\u001b[39;49m -> \u001b[0m\u001b[32;49m24.0\u001b[0m\n",
      "\u001b[1m[\u001b[0m\u001b[34;49mnotice\u001b[0m\u001b[1;39;49m]\u001b[0m\u001b[39;49m To update, run: \u001b[0m\u001b[32;49mpip install --upgrade pip\u001b[0m\n"
     ]
    }
   ],
   "source": [
    "! pip install Cython\n"
   ]
  },
  {
   "cell_type": "code",
   "execution_count": null,
   "metadata": {},
   "outputs": [],
   "source": []
  }
 ],
 "metadata": {
  "kernelspec": {
   "display_name": "Python 3",
   "language": "python",
   "name": "python3"
  },
  "language_info": {
   "codemirror_mode": {
    "name": "ipython",
    "version": 3
   },
   "file_extension": ".py",
   "mimetype": "text/x-python",
   "name": "python",
   "nbconvert_exporter": "python",
   "pygments_lexer": "ipython3",
   "version": "3.10.12"
  },
  "orig_nbformat": 4
 },
 "nbformat": 4,
 "nbformat_minor": 2
}
